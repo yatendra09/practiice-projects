{
 "cells": [
  {
   "cell_type": "markdown",
   "id": "2014ac1a",
   "metadata": {},
   "source": [
    "![koi](https://www.google.com/search?q=funny+gifs&tbm=isch&source=iu&ictx=1&vet=1&fir=toHbZXDsVDVIPM%252CuG14qHcMzbR7fM%252C_%253BPmJBrIf4IQLYNM%252C1Ke9fm9OYdRmQM%252C_%253B5Y4wmmbXKp-YXM%252CY43QD7OgNcg06M%252C_%253BHkJnZd7dEJu2YM%252CQfqcRbX-EVF4EM%252C_%253BynL-Yy5jGSUCVM%252CfsjVxNyoSa8_CM%252C_%253B8SbtU-vDIfTXQM%252CkfQVQSyer-MGyM%252C_%253Bi1rTMrNiL97F1M%252Cc8Bey4q9c_jVTM%252C_%253B_e0CbZ0yV380zM%252CyL2LLQ7hEiBeUM%252C_%253BVRagr0IzY8_VRM%252CIdSj9yIuwM9hwM%252C_%253BfxMDb25Jqn65SM%252CGC6x4X3u7x06PM%252C_%253BSnumz25cmk4ZpM%252ChdXQrXH5XiF7oM%252C_%253BKJbwQrFWNf9dfM%252CsGDdhC6Vdrs0yM%252C_%253BGekPqs5wU22KXM%252CbzdM3bVQvboqAM%252C_%253Btk7AecU2VAHmAM%252C0xWGUmgFFeQppM%252C_&usg=AI4_-kRyM3NI6pHhiF5BjQEFKyqS1l_r1A&sa=X&ved=2ahUKEwio8dOVosL1AhXY8HMBHa-gA_sQ9QF6BAgSEAE#imgrc=5Y4wmmbXKp-YXM)"
   ]
  },
  {
   "cell_type": "code",
   "execution_count": null,
   "id": "f23d3e7f",
   "metadata": {},
   "outputs": [],
   "source": []
  }
 ],
 "metadata": {
  "kernelspec": {
   "display_name": "Python 3",
   "language": "python",
   "name": "python3"
  },
  "language_info": {
   "codemirror_mode": {
    "name": "ipython",
    "version": 3
   },
   "file_extension": ".py",
   "mimetype": "text/x-python",
   "name": "python",
   "nbconvert_exporter": "python",
   "pygments_lexer": "ipython3",
   "version": "3.8.8"
  }
 },
 "nbformat": 4,
 "nbformat_minor": 5
}
